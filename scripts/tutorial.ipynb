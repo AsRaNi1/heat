{
 "cells": [
  {
   "cell_type": "markdown",
   "metadata": {},
   "source": [
    "# HeAT Tutorial\n",
    "---"
   ]
  },
  {
   "cell_type": "markdown",
   "metadata": {},
   "source": [
    "Inspired by the [CS228 tutorial](https://github.com/kuleshov/cs228-material/blob/master/tutorials/python/cs228-python-tutorial.ipynb) from Volodomyr Kuleshov and Isaac Caswell."
   ]
  },
  {
   "cell_type": "markdown",
   "metadata": {},
   "source": [
    "## Introduction\n",
    "---\n",
    "\n",
    "**Table of Contents**\n",
    "\n",
    "<div style=\"float: right; padding-right: 2em; padding-top: 2em;\">\n",
    "    <img src=\"https://raw.githubusercontent.com/helmholtz-analytics/heat/master/doc/images/logo_HeAT.png\"></img>\n",
    "</div>\n",
    "\n",
    "* [Installation](#Installation)\n",
    "    * [Dependencies](#Dependencies)\n",
    "    * [Dependencies](#Dependencies)\n",
    "* [HeAT Arrays](#HeAT-Arrays)\n",
    "    * [Datatypes](#Datatypes)\n",
    "    * [Operations](#Operations)\n",
    "    * [Indexing](#Indexing)\n",
    "* [Parallel Processing](#Parallel-Processing)\n",
    "    * [GPUs](#Dependencies)\n",
    "    * [Distributed Computing](#Distributed-Computing)\n",
    "    * [Dos and Don'ts](#Dos-and-Don'ts)\n",
    "\n",
    "HeAT is a flexible and seamless open-source software for high performance data analytics and machine learnings. It provides highly optimized algorithms and data structures for multi-dimensional arrays computations using CPUs, GPUs and distributed cluster systems. The goal of HeAT is to fill the gap between data analytics and machine learning libraries with a strong focus on on single-node performance, and traditional high-performance computing (HPC). HeAT's generic Python-first programming interface integrates seamlessly with the existing data science ecosystem and makes it as effortless as using numpy to write scalable scientific and data science applications that go beyond the computational and memory needs of your laptop and desktop.\n",
    "\n",
    "For this tutorial, we assume that you are somewhat proficient in the Python programming language. Equally, it is beneficial that you have worked with vectorized multi-dimensional array data structures before, as offered by NumPy, Matlab or R for example. If not or you feel like refreshing your knowledge, you might find the following ressources useful: [CS228 Python and NumPy Tutorial](https://github.com/kuleshov/cs228-material/blob/master/tutorials/python/cs228-python-tutorial.ipynb), [NumPy for MATLAB users](https://docs.scipy.org/doc/numpy/user/numpy-for-matlab-users.html) and [NumPy for R users](http://mathesaurus.sourceforge.net/r-numpy.html)\n",
    "\n",
    "In line with this tutorial, we will cover the following topics\n",
    "\n",
    "* Installation and setup of HeAT\n",
    "* Working with HeAT arrays, operations, indexing etc.\n",
    "* Utilizing HeAT's scalable parallel processing capabilities"
   ]
  },
  {
   "cell_type": "markdown",
   "metadata": {},
   "source": [
    "## Installation\n",
    "---\n",
    "\n",
    "In most use cases the best way to install HeAT on your system is to use the official pre-built package from the Python Package index (PyPi) as follow.\n",
    "\n",
    "```bash\n",
    "python -m pip install heat\n",
    "```\n",
    "\n",
    "You might need to use the `--user` flag or a [virtual environment](https://docs.python.org/3/library/venv.html) on systems where you do not have sufficient priviliges.\n",
    "\n",
    "You can also install the latest greatest HeAT version by cloning the HeAT source code repository and a manual installation.\n",
    "\n",
    "```bash\n",
    "git clone https://github.com/helmholtz-analytics/heat && cd heat && pip install .\n",
    "```"
   ]
  },
  {
   "cell_type": "markdown",
   "metadata": {},
   "source": [
    "### Dependencies\n",
    "\n",
    "HeAT requires you to have an [MPI](https://computing.llnl.gov/tutorials/mpi/) installation on your system in order to enable parallel processing capabilities. If not already present on your system (also applies to laptops, desktops etc.) you can obtain it through your systems package manager (here: OpenMPI), e.g.:\n",
    "\n",
    "```bash\n",
    "apt-get install libopenmpi-dev (Ubuntu, Debian)\n",
    "dnf install openmpi-devel (Fedora)\n",
    "yum install openmpi-devel (CentOS)\n",
    "```\n",
    "\n",
    "Installing these dependencies usually requires administrator priviliges."
   ]
  },
  {
   "cell_type": "markdown",
   "metadata": {},
   "source": [
    "### Optional Features\n",
    "\n",
    "HeAT may be installed with several optional features, i.e. GPU support on top of CUDA, HDF5 and NetCDF4 (parallel) I/O. If you feel like using these features, this how you can enable them\n",
    "\n",
    "* GPU support—ensure that CUDA is installed on your system. You may find an installation guide [here](https://docs.nvidia.com/cuda/cuda-installation-guide-linux/index.html).\n",
    "* HDF5 support—install HDF5 via your system's package manager, preferably with parallel I/O capabilities\n",
    "\n",
    "```bash\n",
    "apt-get install libhdf5-openmpi-dev (Ubuntu, Debian)\n",
    "dnf install hdf5-openmpi-devel (Fedora)\n",
    "yum install hdf5-openmpi-devel (CentOS)\n",
    "```\n",
    "\n",
    "* NetCDF4 support—install NetCDF4 via your system's package manager, preferably with parallel I/O capabilities\n",
    "\n",
    "```bash\n",
    "apt-get install libnetcdf-dev (Ubuntu, Debian)\n",
    "dnf install netcdf-openmpi-devel (Fedora)\n",
    "yum install netcdf-openmpi-devel (CentOS)\n",
    "```\n",
    "\n",
    "When you install HeAT you need to explicitly state that you also want to install all modules for HDF5 and NetCDF4 support by specifying an extras flag, i.e.:\n",
    "\n",
    "```bash\n",
    "pip install -e .[hdf5,netcdf] heat\n",
    "```\n",
    "\n",
    "respectively\n",
    "\n",
    "```bash\n",
    "git clone https://github.com/helmholtz-analytics/heat && cd heat && pip install -e [hdf5,netcdf] .\n",
    "```\n",
    "\n"
   ]
  },
  {
   "cell_type": "markdown",
   "metadata": {},
   "source": [
    "## HeAT Arrays\n",
    "---"
   ]
  },
  {
   "cell_type": "markdown",
   "metadata": {},
   "source": [
    "### Datatypes"
   ]
  },
  {
   "cell_type": "markdown",
   "metadata": {},
   "source": [
    "### Operations"
   ]
  },
  {
   "cell_type": "markdown",
   "metadata": {},
   "source": [
    "### Indexing"
   ]
  },
  {
   "cell_type": "markdown",
   "metadata": {},
   "source": [
    "## Parallel Processing\n",
    "---"
   ]
  },
  {
   "cell_type": "markdown",
   "metadata": {},
   "source": [
    "### GPUs"
   ]
  },
  {
   "cell_type": "markdown",
   "metadata": {},
   "source": [
    "### Distributed Computing"
   ]
  },
  {
   "cell_type": "markdown",
   "metadata": {},
   "source": [
    "### Dos and Don'ts"
   ]
  }
 ],
 "metadata": {
  "kernelspec": {
   "display_name": "heat_kernel",
   "language": "python",
   "name": "heat_kernel"
  },
  "language_info": {
   "codemirror_mode": {
    "name": "ipython",
    "version": 3
   },
   "file_extension": ".py",
   "mimetype": "text/x-python",
   "name": "python",
   "nbconvert_exporter": "python",
   "pygments_lexer": "ipython3",
   "version": "3.6.6"
  }
 },
 "nbformat": 4,
 "nbformat_minor": 1
}
